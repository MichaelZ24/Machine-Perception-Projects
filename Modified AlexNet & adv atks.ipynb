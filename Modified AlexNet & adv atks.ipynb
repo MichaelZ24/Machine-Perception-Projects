{
 "cells": [
  {
   "cell_type": "code",
   "execution_count": 1,
   "metadata": {},
   "outputs": [
    {
     "name": "stdout",
     "output_type": "stream",
     "text": [
      "Files already downloaded and verified\n",
      "Files already downloaded and verified\n"
     ]
    }
   ],
   "source": [
    "# Imports\n",
    "import torch\n",
    "import torchvision\n",
    "import PIL\n",
    "from torchvision import transforms\n",
    "\n",
    "transform = transforms.Compose([\n",
    "    transforms.ToTensor()\n",
    "])\n",
    "\n",
    "BATCH_SIZE = 128\n",
    "\n",
    "# Load and Configure Dataset\n",
    "dataset = torchvision.datasets.CIFAR10(root='./data', train=True, download=True, transform=transform) # (50000, 32, 32, 3)\n",
    "train_set, val_set = torch.utils.data.random_split(dataset, [40000, 10000])\n",
    "\n",
    "train_loader = torch.utils.data.DataLoader(train_set, batch_size = BATCH_SIZE, shuffle=True, num_workers = 6)\n",
    "val_loader = torch.utils.data.DataLoader(val_set, batch_size = BATCH_SIZE, shuffle=False, num_workers = 6)\n",
    "\n",
    "test_set = torchvision.datasets.CIFAR10(root='./data', train=False, download=True, transform=transform) \n",
    "test_loader = torch.utils.data.DataLoader(test_set, batch_size = BATCH_SIZE, shuffle=False, num_workers = 6)\n",
    "\n",
    "classes = ['plane', 'car', 'bird', 'cat', 'deer', 'dog', 'frog', 'horse', 'ship', 'truck']"
   ]
  },
  {
   "cell_type": "code",
   "execution_count": 2,
   "metadata": {},
   "outputs": [
    {
     "name": "stdout",
     "output_type": "stream",
     "text": [
      "Number of trainable parameters: 9252170\n"
     ]
    }
   ],
   "source": [
    "# Define CNN Architecture\n",
    "\n",
    "import torch.nn as nn\n",
    "import torch.nn.functional as F\n",
    "\n",
    "class Net(nn.Module):\n",
    "  def __init__(self):\n",
    "    super(Net, self).__init__()\n",
    "    self.conv1 = nn.Conv2d(3, 64, 5, padding=2)\n",
    "    self.conv2 = nn.Conv2d(64, 64, 5, padding=2)\n",
    "    self.conv3 = nn.Conv2d(64, 128, 3, padding=1)\n",
    "    self.conv4 = nn.Conv2d(128, 128, 3, padding=1) \n",
    "    self.pool = nn.MaxPool2d(2, 2) \n",
    "    self.fc1 = nn.Linear(64 * 128, 1024)\n",
    "    self.fc2 = nn.Linear(1024, 512)\n",
    "    self.fc3 = nn.Linear(512, 10)\n",
    "\n",
    "    self.bn_conv1 = nn.BatchNorm2d(64)\n",
    "    self.bn_conv2 = nn.BatchNorm2d(64)\n",
    "    self.bn_conv3 = nn.BatchNorm2d(128)\n",
    "    self.bn_conv4 = nn.BatchNorm2d(128)\n",
    "    self.bn_dense1 = nn.BatchNorm1d(1024)\n",
    "    self.bn_dense2 = nn.BatchNorm1d(512)\n",
    "    \n",
    "    self.dropout_conv = nn.Dropout2d(p=0.25)\n",
    "    self.dropout_dense = nn.Dropout1d(p=0.30)\n",
    "\n",
    "  def conv_layers(self, x):\n",
    "    out = F.relu(self.bn_conv1(self.conv1(x)))\n",
    "    out = F.relu(self.bn_conv2(self.conv2(out)))\n",
    "    out = self.pool(out)\n",
    "    out = self.dropout_conv(out)\n",
    "    out = F.relu(self.bn_conv3(self.conv3(out)))\n",
    "    out = F.relu(self.bn_conv4(self.conv4(out)))\n",
    "    out = self.pool(out)\n",
    "    out = self.dropout_conv(out)\n",
    "    return out\n",
    "\n",
    "  def dense_layers(self, x):\n",
    "    out = F.relu(self.bn_dense1(self.fc1(x)))\n",
    "    out = self.dropout_dense(out)\n",
    "    out = F.relu(self.bn_dense2(self.fc2(out)))\n",
    "    out = self.dropout_dense(out)\n",
    "    out = self.fc3(out)\n",
    "    return out\n",
    "\n",
    "  def forward(self, x):\n",
    "    out = self.conv_layers(x)\n",
    "    out = out.view(-1, 128 * 8 * 8)\n",
    "    out = self.dense_layers(out)\n",
    "    return out\n",
    "\n",
    "net = Net()\n",
    "device = 'cpu'\n",
    "net.to(device)\n",
    "\n",
    "\n",
    "num_params = sum(p.numel() for p in net.parameters() if p.requires_grad)\n",
    "print(\"Number of trainable parameters:\", num_params)"
   ]
  },
  {
   "cell_type": "code",
   "execution_count": 5,
   "metadata": {},
   "outputs": [
    {
     "name": "stdout",
     "output_type": "stream",
     "text": [
      "[epoch 1] loss: 0.01686 accuracy: 0.2041 val loss: 0.01425 val accuracy: 0.3666\n",
      "[epoch 2] loss: 0.01502 accuracy: 0.2729 val loss: 0.01309 val accuracy: 0.4177\n",
      "[epoch 3] loss: 0.01435 accuracy: 0.3049 val loss: 0.01192 val accuracy: 0.5128\n",
      "[epoch 4] loss: 0.01372 accuracy: 0.3378 val loss: 0.00998 val accuracy: 0.6122\n",
      "[epoch 5] loss: 0.01317 accuracy: 0.3661 val loss: 0.00986 val accuracy: 0.6142\n",
      "[epoch 6] loss: 0.01280 accuracy: 0.3800 val loss: 0.00844 val accuracy: 0.6918\n",
      "[epoch 7] loss: 0.01251 accuracy: 0.3943 val loss: 0.00800 val accuracy: 0.6970\n",
      "[epoch 8] loss: 0.01223 accuracy: 0.4083 val loss: 0.00774 val accuracy: 0.7188\n",
      "[epoch 9] loss: 0.01203 accuracy: 0.4180 val loss: 0.00716 val accuracy: 0.7338\n",
      "[epoch 10] loss: 0.01179 accuracy: 0.4263 val loss: 0.00699 val accuracy: 0.7457\n",
      "[epoch 11] loss: 0.01159 accuracy: 0.4375 val loss: 0.00706 val accuracy: 0.7242\n",
      "[epoch 12] loss: 0.01139 accuracy: 0.4447 val loss: 0.00669 val accuracy: 0.7438\n",
      "[epoch 13] loss: 0.01118 accuracy: 0.4568 val loss: 0.00626 val accuracy: 0.7649\n",
      "[epoch 14] loss: 0.01098 accuracy: 0.4664 val loss: 0.00591 val accuracy: 0.7687\n",
      "[epoch 15] loss: 0.01081 accuracy: 0.4743 val loss: 0.00580 val accuracy: 0.7699\n",
      "[epoch 16] loss: 0.01069 accuracy: 0.4783 val loss: 0.00577 val accuracy: 0.7644\n",
      "[epoch 17] loss: 0.01052 accuracy: 0.4838 val loss: 0.00574 val accuracy: 0.7672\n",
      "[epoch 18] loss: 0.01037 accuracy: 0.4936 val loss: 0.00581 val accuracy: 0.7613\n",
      "[epoch 19] loss: 0.01028 accuracy: 0.4969 val loss: 0.00555 val accuracy: 0.7668\n",
      "[epoch 20] loss: 0.01026 accuracy: 0.4961 val loss: 0.00543 val accuracy: 0.7736\n",
      "[epoch 21] loss: 0.01016 accuracy: 0.5002 val loss: 0.00542 val accuracy: 0.7695\n",
      "[epoch 22] loss: 0.01003 accuracy: 0.5061 val loss: 0.00532 val accuracy: 0.7737\n",
      "[epoch 23] loss: 0.00993 accuracy: 0.5105 val loss: 0.00558 val accuracy: 0.7636\n",
      "[epoch 24] loss: 0.00993 accuracy: 0.5136 val loss: 0.00558 val accuracy: 0.7616\n",
      "[epoch 25] loss: 0.00988 accuracy: 0.5143 val loss: 0.00553 val accuracy: 0.7642\n",
      "[epoch 26] loss: 0.00975 accuracy: 0.5202 val loss: 0.00531 val accuracy: 0.7706\n",
      "[epoch 27] loss: 0.00976 accuracy: 0.5181 val loss: 0.00544 val accuracy: 0.7714\n",
      "[epoch 28] loss: 0.00972 accuracy: 0.5205 val loss: 0.00544 val accuracy: 0.7695\n",
      "[epoch 29] loss: 0.00978 accuracy: 0.5157 val loss: 0.00547 val accuracy: 0.7697\n",
      "[epoch 30] loss: 0.00968 accuracy: 0.5220 val loss: 0.00550 val accuracy: 0.7635\n",
      "[epoch 31] loss: 0.00958 accuracy: 0.5271 val loss: 0.00537 val accuracy: 0.7751\n",
      "[epoch 32] loss: 0.00962 accuracy: 0.5255 val loss: 0.00521 val accuracy: 0.7798\n",
      "[epoch 33] loss: 0.00961 accuracy: 0.5261 val loss: 0.00519 val accuracy: 0.7809\n",
      "[epoch 34] loss: 0.00961 accuracy: 0.5248 val loss: 0.00553 val accuracy: 0.7669\n",
      "[epoch 35] loss: 0.00963 accuracy: 0.5240 val loss: 0.00528 val accuracy: 0.7799\n",
      "[epoch 36] loss: 0.00955 accuracy: 0.5282 val loss: 0.00550 val accuracy: 0.7727\n",
      "[epoch 37] loss: 0.00959 accuracy: 0.5273 val loss: 0.00523 val accuracy: 0.7825\n",
      "[epoch 38] loss: 0.00956 accuracy: 0.5279 val loss: 0.00534 val accuracy: 0.7751\n",
      "[epoch 39] loss: 0.00951 accuracy: 0.5295 val loss: 0.00547 val accuracy: 0.7735\n",
      "[epoch 40] loss: 0.00962 accuracy: 0.5237 val loss: 0.00538 val accuracy: 0.7728\n",
      "[epoch 41] loss: 0.00949 accuracy: 0.5271 val loss: 0.00539 val accuracy: 0.7786\n",
      "[epoch 42] loss: 0.00955 accuracy: 0.5267 val loss: 0.00539 val accuracy: 0.7778\n",
      "[epoch 43] loss: 0.00952 accuracy: 0.5269 val loss: 0.00528 val accuracy: 0.7802\n",
      "Epoch 00044: reducing learning rate of group 0 to 1.0000e-03.\n",
      "[epoch 44] loss: 0.00956 accuracy: 0.5267 val loss: 0.00542 val accuracy: 0.7730\n",
      "[epoch 45] loss: 0.00933 accuracy: 0.5401 val loss: 0.00513 val accuracy: 0.7838\n",
      "[epoch 46] loss: 0.00933 accuracy: 0.5424 val loss: 0.00507 val accuracy: 0.7879\n",
      "[epoch 47] loss: 0.00929 accuracy: 0.5413 val loss: 0.00500 val accuracy: 0.7896\n",
      "[epoch 48] loss: 0.00936 accuracy: 0.5397 val loss: 0.00504 val accuracy: 0.7913\n",
      "[epoch 49] loss: 0.00916 accuracy: 0.5494 val loss: 0.00502 val accuracy: 0.7940\n",
      "[epoch 50] loss: 0.00926 accuracy: 0.5455 val loss: 0.00506 val accuracy: 0.7947\n"
     ]
    }
   ],
   "source": [
    "import torch.optim as optim\n",
    "num_epochs = 50\n",
    "\n",
    "criterion = nn.CrossEntropyLoss()\n",
    "optimizer = optim.Adam(net.parameters(), lr=0.01, betas=(0.9, 0.999), eps=1e-08, weight_decay=0, amsgrad=False)\n",
    "scheduler = optim.lr_scheduler.ReduceLROnPlateau(optimizer, mode='min', factor=0.1, patience=10, verbose=True, min_lr=0)\n",
    "\n",
    "loss_hist, acc_hist = [], []\n",
    "loss_hist_val, acc_hist_val = [], []\n",
    "\n",
    "for epoch in range(num_epochs):\n",
    "  running_loss = 0.0\n",
    "  correct = 0\n",
    "  for data in train_loader:\n",
    "    batch, labels = data\n",
    "    batch, labels = batch.to(device), labels.to(device)\n",
    "\n",
    "    optimizer.zero_grad()\n",
    "    outputs = net(batch)\n",
    "    loss = criterion(outputs, labels)\n",
    "    loss.backward()\n",
    "    optimizer.step()\n",
    "\n",
    "    # compute training statistics\n",
    "    _, predicted = torch.max(outputs, 1)\n",
    "    correct += (predicted == labels).sum().item()\n",
    "    running_loss += loss.item()\n",
    "\n",
    "  avg_loss = running_loss / len(train_set)\n",
    "  avg_acc = correct / len(train_set)\n",
    "  loss_hist.append(avg_loss)\n",
    "  acc_hist.append(avg_acc)\n",
    "\n",
    "  # validation statistics\n",
    "  net.eval()\n",
    "  with torch.no_grad():\n",
    "    loss_val = 0.0\n",
    "    correct_val = 0\n",
    "    for data in val_loader:\n",
    "      batch, labels = data\n",
    "      batch, labels = batch.to(device), labels.to(device)\n",
    "      outputs = net(batch)\n",
    "      loss = criterion(outputs, labels)\n",
    "      _, predicted = torch.max(outputs, 1)\n",
    "      correct_val += (predicted == labels).sum().item()\n",
    "      loss_val += loss.item()\n",
    "    avg_loss_val = loss_val / len(val_set)\n",
    "    avg_acc_val = correct_val / len(val_set)\n",
    "    loss_hist_val.append(avg_loss_val)\n",
    "    acc_hist_val.append(avg_acc_val)\n",
    "  net.train()\n",
    "\n",
    "  scheduler.step(avg_loss_val)\n",
    "  print('[epoch %d] loss: %.5f accuracy: %.4f val loss: %.5f val accuracy: %.4f' % (epoch + 1, avg_loss, avg_acc, avg_loss_val, avg_acc_val))"
   ]
  },
  {
   "cell_type": "code",
   "execution_count": 6,
   "metadata": {},
   "outputs": [
    {
     "data": {
      "image/png": "[encoded data removed]",
      "text/plain": [
       "<Figure size 432x288 with 1 Axes>"
      ]
     },
     "metadata": {
      "needs_background": "light"
     },
     "output_type": "display_data"
    },
    {
     "data": {
      "image/png": "[encoded data removed]",
      "text/plain": [
       "<Figure size 432x288 with 1 Axes>"
      ]
     },
     "metadata": {
      "needs_background": "light"
     },
     "output_type": "display_data"
    }
   ],
   "source": [
    "import matplotlib.pyplot as plt\n",
    "\n",
    "legend = ['Train', 'Validation']\n",
    "plt.plot(loss_hist)\n",
    "plt.plot(loss_hist_val)\n",
    "plt.title('Model Loss')\n",
    "plt.xlabel('Epochs')\n",
    "plt.ylabel('Loss')\n",
    "plt.legend(legend, loc='upper left')\n",
    "plt.show()\n",
    "\n",
    "legend = ['Train', 'Validation']\n",
    "plt.plot(acc_hist)\n",
    "plt.plot(acc_hist_val)\n",
    "plt.title('Model Accuracy')\n",
    "plt.xlabel('Epochs')\n",
    "plt.ylabel('Accuracy')\n",
    "plt.legend(legend, loc='upper left')\n",
    "plt.show()"
   ]
  },
  {
   "cell_type": "code",
   "execution_count": 11,
   "metadata": {},
   "outputs": [
    {
     "data": {
      "text/plain": [
       "<All keys matched successfully>"
      ]
     },
     "execution_count": 11,
     "metadata": {},
     "output_type": "execute_result"
    }
   ],
   "source": [
    "torch.save(net.state_dict(), 'checkpoint.pth')\n",
    "#net.load_state_dict(torch.load('checkpoint.pth'))"
   ]
  },
  {
   "cell_type": "code",
   "execution_count": 11,
   "metadata": {},
   "outputs": [
    {
     "name": "stdout",
     "output_type": "stream",
     "text": [
      "Accuracy on the 10000 test images: 78.19 %\n"
     ]
    }
   ],
   "source": [
    "pred_vec = []\n",
    "correct = 0\n",
    "net.eval()\n",
    "with torch.no_grad():\n",
    "    for data in test_loader:\n",
    "        batch, labels = data\n",
    "        batch, labels = batch.to(device), labels.to(device)\n",
    "        outputs = net(batch)\n",
    "        _, predicted = torch.max(outputs, 1)\n",
    "        correct += (predicted == labels).sum().item()\n",
    "        pred_vec.append(predicted)\n",
    "    pred_vec = torch.cat(pred_vec)\n",
    "\n",
    "print('Accuracy on the 10000 test images: %.2f %%' % (100 * correct / len(test_set)))"
   ]
  },
  {
   "cell_type": "code",
   "execution_count": 41,
   "metadata": {},
   "outputs": [
    {
     "name": "stdout",
     "output_type": "stream",
     "text": [
      "On Iteration  0\n",
      "On Iteration  100\n",
      "On Iteration  200\n",
      "On Iteration  300\n",
      "On Iteration  400\n",
      "On Iteration  500\n",
      "On Iteration  600\n",
      "On Iteration  700\n",
      "On Iteration  800\n",
      "On Iteration  900\n",
      "On Iteration  1000\n",
      "On Iteration  1100\n",
      "On Iteration  1200\n",
      "On Iteration  1300\n",
      "On Iteration  1400\n",
      "On Iteration  1500\n",
      "On Iteration  1600\n",
      "On Iteration  1700\n",
      "On Iteration  1800\n",
      "On Iteration  1900\n",
      "On Iteration  2000\n",
      "On Iteration  2100\n",
      "On Iteration  2200\n",
      "On Iteration  2300\n",
      "On Iteration  2400\n",
      "On Iteration  2500\n",
      "On Iteration  2600\n",
      "On Iteration  2700\n",
      "On Iteration  2800\n",
      "On Iteration  2900\n",
      "On Iteration  3000\n",
      "On Iteration  3100\n",
      "On Iteration  3200\n",
      "On Iteration  3300\n",
      "On Iteration  3400\n",
      "On Iteration  3500\n",
      "On Iteration  3600\n",
      "On Iteration  3700\n",
      "On Iteration  3800\n",
      "On Iteration  3900\n",
      "On Iteration  4000\n",
      "On Iteration  4100\n",
      "On Iteration  4200\n",
      "On Iteration  4300\n",
      "On Iteration  4400\n",
      "On Iteration  4500\n",
      "On Iteration  4600\n",
      "On Iteration  4700\n",
      "On Iteration  4800\n",
      "On Iteration  4900\n",
      "On Iteration  5000\n",
      "On Iteration  5100\n",
      "On Iteration  5200\n",
      "On Iteration  5300\n",
      "On Iteration  5400\n",
      "On Iteration  5500\n",
      "On Iteration  5600\n",
      "On Iteration  5700\n",
      "On Iteration  5800\n",
      "On Iteration  5900\n",
      "On Iteration  6000\n",
      "On Iteration  6100\n",
      "On Iteration  6200\n",
      "On Iteration  6300\n",
      "On Iteration  6400\n",
      "On Iteration  6500\n",
      "On Iteration  6600\n",
      "On Iteration  6700\n",
      "On Iteration  6800\n",
      "On Iteration  6900\n",
      "On Iteration  7000\n",
      "On Iteration  7100\n",
      "On Iteration  7200\n",
      "On Iteration  7300\n",
      "On Iteration  7400\n",
      "On Iteration  7500\n",
      "On Iteration  7600\n",
      "On Iteration  7700\n",
      "On Iteration  7800\n",
      "On Iteration  7900\n",
      "On Iteration  8000\n",
      "On Iteration  8100\n",
      "On Iteration  8200\n",
      "On Iteration  8300\n",
      "On Iteration  8400\n",
      "On Iteration  8500\n",
      "On Iteration  8600\n",
      "On Iteration  8700\n",
      "On Iteration  8800\n",
      "On Iteration  8900\n",
      "On Iteration  9000\n",
      "On Iteration  9100\n",
      "On Iteration  9200\n",
      "On Iteration  9300\n",
      "On Iteration  9400\n",
      "On Iteration  9500\n",
      "On Iteration  9600\n",
      "On Iteration  9700\n",
      "On Iteration  9800\n",
      "On Iteration  9900\n",
      "()\n",
      "Accuracy for Epsilon =0.1\n"
     ]
    }
   ],
   "source": [
    "# Adversarial Attacks\n",
    "\n",
    "#Reload data with batch size=1 for FGSM only\n",
    "test_loader = torch.utils.data.DataLoader(dataset = test_set,batch_size = 1, shuffle = True) \n",
    "eps = 0.1\n",
    "\n",
    "def FGSM(img,gradient,e):\n",
    "    signs = gradient.sign() #Extract the gradient signs\n",
    "    # Create the perturbed image by adjusting each pixel of the input image\n",
    "    x_perturb = img + e*signs #Create our perturbered image by adding a small epsilon in the direction of the gradient\n",
    "    image_attack = torch.clamp(x_perturb, 0, 1) #Clamp the image pixel value to make sure its an image\n",
    "    return image_attack #Return our final attacked image\n",
    "\n",
    "def attack_network(dev,loader,e,number):\n",
    "    accur = []\n",
    "    sample=0\n",
    "    iter=0\n",
    "    for i, (imgs, classes) in enumerate(loader):\n",
    "        if i % 100 == 0: \n",
    "            print(\"On Iteration \",iter )\n",
    "        classes = classes.to(dev)\n",
    "        imgs = imgs.to(dev)\n",
    "        imgs.requires_grad=True\n",
    "        out = net(imgs)\n",
    "        class_hat = out.max(1, keepdim=True)[1] #Initial Label Prediction\n",
    "        #Attack the network only if it already predicts the image class correctly\n",
    "        if classes.item()==class_hat.item(): \n",
    "            #Calculate the current value of the loss\n",
    "            loss_value = criterion(out, classes) \n",
    "            # Do Backproprogation using SGD to update weights based on loss\n",
    "            optimizer.zero_grad() #Set gradient to zero before each weight update\n",
    "            loss_value.backward() #Find value of new gradients based on current loss value\n",
    "            gradients = imgs.grad.data #Get current gradients\n",
    "            #Attack the network using FGSM\n",
    "            img_attack=FGSM(imgs,gradients,e)\n",
    "            class_hat_attack=net(img_attack) #Get new network prediction with attack\n",
    "            attack_pred = class_hat_attack.data.max(1, keepdim=True)[1]#Initial Prediction\n",
    "            if attack_pred.item()==classes.item():\n",
    "                accur.append(1)\n",
    "        sample += classes.size(0)\n",
    "        iter+=1\n",
    "    accur=np.array(accur)\n",
    "    ac_total=(100 * np.sum(accur) / sample)\n",
    "    print(ac_total.shape)\n",
    "    print(\"Accuracy for Epsilon ={}\".format(e,ac_total)) #Observe how accuracy is changing with FGSM attack\n",
    "    return ac_total\n",
    "accur_store=attack_network(device,test_loader,eps,1)\n"
   ]
  },
  {
   "cell_type": "code",
   "execution_count": 43,
   "metadata": {},
   "outputs": [
    {
     "data": {
      "text/plain": [
       "4.08"
      ]
     },
     "execution_count": 43,
     "metadata": {},
     "output_type": "execute_result"
    }
   ],
   "source": [
    "accur_store"
   ]
  },
  {
   "cell_type": "code",
   "execution_count": 49,
   "metadata": {},
   "outputs": [
    {
     "name": "stdout",
     "output_type": "stream",
     "text": [
      "PGD Attack Testing Accuracy: 0.04\n"
     ]
    }
   ],
   "source": [
    "from torchattacks import PGD\n",
    "#Note: This function was obtained from the utils.py file from the torchattacks repository cited above\n",
    "def get_pred(model, images, device):\n",
    "    logits = model(images.to(device))\n",
    "    _, pres = logits.max(dim=1)\n",
    "    return pres.cpu()\n",
    "\n",
    "test_loader = torch.utils.data.DataLoader(dataset = test_set,batch_size = BATCH_SIZE, shuffle = True)\n",
    "\n",
    "atck_net = PGD(net, eps=8/255, alpha=2/225, steps=10, random_start=True)\n",
    "ac=0\n",
    "sample=0\n",
    "count=0\n",
    "for imgs,classes in test_loader:\n",
    "    imgs_attack=atck_net(imgs, classes)\n",
    "    prediction=get_pred(net, imgs_attack, device)\n",
    "    for j in range(prediction.shape[0]):\n",
    "        if prediction[j]==classes[j]:\n",
    "            ac+=1\n",
    "    sample += classes.size(0)\n",
    "    count+=1\n",
    "\n",
    "accur= 100*np.sum(ac)/sample\n",
    "print(\"PGD Attack Testing Accuracy:\",accur)"
   ]
  },
  {
   "cell_type": "code",
   "execution_count": 7,
   "metadata": {},
   "outputs": [
    {
     "name": "stdout",
     "output_type": "stream",
     "text": [
      "GN Attack Testing Accuracy: 34.36\n"
     ]
    }
   ],
   "source": [
    "from torchattacks import GN\n",
    "import numpy as np\n",
    "#Note: This function was obtained from the utils.py file from the torchattacks repository cited above\n",
    "def get_pred(model, images, device):\n",
    "    logits = model(images.to(device))\n",
    "    _, pres = logits.max(dim=1)\n",
    "    return pres.cpu()\n",
    "\n",
    "test_loader = torch.utils.data.DataLoader(dataset = test_set,batch_size = BATCH_SIZE, shuffle = True)\n",
    "\n",
    "atck_net = GN(net, std=0.15)\n",
    "ac=0\n",
    "sample=0\n",
    "count=0\n",
    "for imgs,classes in test_loader:\n",
    "    imgs_attack=atck_net(imgs, classes)\n",
    "    prediction=get_pred(net, imgs_attack, device)\n",
    "    for j in range(prediction.shape[0]):\n",
    "        if prediction[j]==classes[j]:\n",
    "            ac+=1\n",
    "    sample += classes.size(0)\n",
    "    count+=1\n",
    "\n",
    "accur= 100*np.sum(ac)/sample\n",
    "print(\"GN Attack Testing Accuracy:\",accur)"
   ]
  },
  {
   "cell_type": "code",
   "execution_count": 16,
   "metadata": {},
   "outputs": [
    {
     "name": "stdout",
     "output_type": "stream",
     "text": [
      "[epoch 1] loss: 0.01826 accuracy: 0.0950 val loss: 0.14395 val accuracy: 0.0951\n",
      "[epoch 2] loss: 0.01657 accuracy: 0.2099 val loss: 0.09718 val accuracy: 0.5926\n",
      "[epoch 3] loss: 0.01585 accuracy: 0.2308 val loss: 0.08851 val accuracy: 0.6330\n",
      "[epoch 4] loss: 0.01552 accuracy: 0.2470 val loss: 0.08565 val accuracy: 0.6801\n",
      "[epoch 5] loss: 0.01523 accuracy: 0.2613 val loss: 0.08193 val accuracy: 0.6799\n"
     ]
    }
   ],
   "source": [
    "# Adversarial Defense\n",
    "import torch.optim as optim\n",
    "from torchattacks import PGD\n",
    "\n",
    "num_epochs = 5\n",
    "\n",
    "criterion = nn.CrossEntropyLoss()\n",
    "optimizer = optim.Adam(net.parameters(), lr=0.01, betas=(0.9, 0.999), eps=1e-08, weight_decay=0, amsgrad=False)\n",
    "scheduler = optim.lr_scheduler.ReduceLROnPlateau(optimizer, mode='min', factor=0.1, patience=10, verbose=True, min_lr=0)\n",
    "\n",
    "train_loader = torch.utils.data.DataLoader(train_set, batch_size = BATCH_SIZE, shuffle=True, num_workers = 6) # 16 ?\n",
    "\n",
    "loss_hist, acc_hist = [], []\n",
    "loss_hist_val, acc_hist_val = [], []\n",
    "\n",
    "atck_net = PGD(net, eps=8/255, alpha=2/225, steps=10, random_start=True)\n",
    "\n",
    "for epoch in range(num_epochs):\n",
    "  running_loss = 0.0\n",
    "  correct = 0\n",
    "  for data in train_loader:\n",
    "\n",
    "    batch, labels = data # imgs, classes\n",
    "    batch=atck_net(batch, labels)\n",
    "\n",
    "    batch, labels = batch.to(device), labels.to(device)\n",
    "\n",
    "    optimizer.zero_grad()\n",
    "    outputs = net(batch)\n",
    "    loss = criterion(outputs, labels)\n",
    "    loss.backward()\n",
    "    optimizer.step()\n",
    "\n",
    "    # compute training statistics\n",
    "    _, predicted = torch.max(outputs, 1)\n",
    "    correct += (predicted == labels).sum().item()\n",
    "    running_loss += loss.item()\n",
    "\n",
    "  avg_loss = running_loss / len(train_set)\n",
    "  avg_acc = correct / len(train_set)\n",
    "  loss_hist.append(avg_loss)\n",
    "  acc_hist.append(avg_acc)\n",
    "\n",
    "  # validation statistics\n",
    "  net.eval()\n",
    "  with torch.no_grad():\n",
    "    loss_val = 0.0\n",
    "    correct_val = 0\n",
    "    for data in val_loader:\n",
    "      batch, labels = data\n",
    "      batch, labels = batch.to(device), labels.to(device)\n",
    "      outputs = net(batch)\n",
    "      loss = criterion(outputs, labels)\n",
    "      _, predicted = torch.max(outputs, 1)\n",
    "      correct_val += (predicted == labels).sum().item()\n",
    "      loss_val += loss.item()\n",
    "    avg_loss_val = loss_val / len(val_set)\n",
    "    avg_acc_val = correct_val / len(val_set)\n",
    "    loss_hist_val.append(avg_loss_val)\n",
    "    acc_hist_val.append(avg_acc_val)\n",
    "  net.train()\n",
    "\n",
    "  scheduler.step(avg_loss_val)\n",
    "  print('[epoch %d] loss: %.5f accuracy: %.4f val loss: %.5f val accuracy: %.4f' % (epoch + 1, avg_loss, avg_acc, avg_loss_val, avg_acc_val))\n"
   ]
  },
  {
   "cell_type": "code",
   "execution_count": 20,
   "metadata": {},
   "outputs": [
    {
     "name": "stdout",
     "output_type": "stream",
     "text": [
      "PGD Attack Testing Accuracy: 23.41\n"
     ]
    }
   ],
   "source": [
    "# Testing after adversarial Training\n",
    "\n",
    "from torchattacks import GN\n",
    "#Note: This function was obtained from the utils.py file from the torchattacks repository cited above\n",
    "def get_pred(model, images, device):\n",
    "    logits = model(images.to(device))\n",
    "    _, pres = logits.max(dim=1)\n",
    "    return pres.cpu()\n",
    "\n",
    "test_loader = torch.utils.data.DataLoader(dataset = test_set,batch_size = BATCH_SIZE, shuffle = True)\n",
    "\n",
    "atck_net = PGD(net, eps=8/255, alpha=2/225, steps=10, random_start=True)\n",
    "ac=0\n",
    "sample=0\n",
    "count=0\n",
    "for imgs,classes in test_loader:\n",
    "    imgs_attack=atck_net(imgs, classes)\n",
    "    prediction=get_pred(net, imgs_attack, device)\n",
    "    for j in range(prediction.shape[0]):\n",
    "        if prediction[j]==classes[j]:\n",
    "            ac+=1\n",
    "    sample += classes.size(0)\n",
    "    count+=1\n",
    "\n",
    "accur= 100*np.sum(ac)/sample\n",
    "print(\"PGD Attack Testing Accuracy:\",accur)"
   ]
  },
  {
   "cell_type": "markdown",
   "metadata": {},
   "source": []
  }
 ],
 "metadata": {
  "kernelspec": {
   "display_name": "Python 3.8.8",
   "language": "python",
   "name": "python3"
  },
  "language_info": {
   "codemirror_mode": {
    "name": "ipython",
    "version": 3
   },
   "file_extension": ".py",
   "mimetype": "text/x-python",
   "name": "python",
   "nbconvert_exporter": "python",
   "pygments_lexer": "ipython3",
   "version": "3.8.8"
  },
  "orig_nbformat": 4,
  "vscode": {
   "interpreter": {
    "hash": "2e549e3d0bee37aa520eeea2ad6b8b5a632f5fb75a881626593355770ece3132"
   }
  }
 },
 "nbformat": 4,
 "nbformat_minor": 2
}
